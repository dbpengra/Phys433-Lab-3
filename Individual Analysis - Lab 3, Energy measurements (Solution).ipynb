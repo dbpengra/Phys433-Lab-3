{
 "cells": [
  {
   "cell_type": "markdown",
   "metadata": {},
   "source": [
    "# Lab 3 Individual Analysis - Energy Measurements\n",
    "\n",
    "This exercise will introduce (and beat to death) fitting a line to data.  You should also learn the utility of transforming data sets so that they display as a line, the most easily recognizable function."
   ]
  },
  {
   "cell_type": "code",
   "execution_count": 1,
   "metadata": {},
   "outputs": [],
   "source": [
    "import numpy as np  # import the numpy library functions.\n",
    "import scipy.constants as const # import physical constants\n",
    "import matplotlib.pyplot as plt # plotting functions\n",
    "import uncertainties as unc # Uncertainties package.  Good for simple error propagation\n",
    "# directive below puts the plots in the notebook\n",
    "%matplotlib inline"
   ]
  },
  {
   "cell_type": "markdown",
   "metadata": {},
   "source": [
    "## PMT Gain Analysis\n",
    "\n",
    "From the collected data of peak height vs. high-voltage bias, carry out the following analysis:\n",
    "\n",
    "1. Convert each peak voltage range to a median and uncertainty.  For example if the listed voltage is \"12.3 - 14.5 mV\" convert it to (12.3+14.5)/2 plus or minus (14.5-12.3)/2, i.e., 13.4 +/- 1.1.  Accomplish this by putting the numbers into NumPy arrays which are then used to create new arrays.\n",
    "\n",
    "2. Plot the median voltage vs HV bias on a double-log scale.  If the model for PMT gain is mostly correct, the result should be points lying along a line.\n",
    "\n",
    "3. Fit the data to obtain the slope of the line on the double-log plot.  The slope should be a number close to the number of dynode stages."
   ]
  },
  {
   "cell_type": "markdown",
   "metadata": {},
   "source": [
    "### Step 1. Enter and reduce the data set"
   ]
  },
  {
   "cell_type": "markdown",
   "metadata": {},
   "source": [
    "Create the dat set arrays:"
   ]
  },
  {
   "cell_type": "code",
   "execution_count": 2,
   "metadata": {},
   "outputs": [],
   "source": [
    "# From the data set, create arrays to manipulate.  \n",
    "# One suggested way is below, where the \"low\" and \"hi\" are the low and high values for\n",
    "# each peak.\n",
    "\n",
    "# You are welcome to use other ways to create the data sets\n",
    "\n",
    "HV_data = np.arange(400.,1000.,50.)\n",
    "peak_heights_low = np.array([1.46, 3.68, 8.52, 18.6, 38.2, 71.4, 132.0, 237.0, 395.0, 646.0, 1010.0, 1520.0])\n",
    "peak_heights_hi  = np.array([1.68, 4.12, 9.80, 20.8, 42.0, 83.2, 155.0, 267.5, 449.0, 730.0, 1155.0, 1690.0])"
   ]
  },
  {
   "cell_type": "markdown",
   "metadata": {},
   "source": [
    "Manipulate them to obtain midpoints and uncertainty.  Then print out using the code at the bottom (or your version of it)."
   ]
  },
  {
   "cell_type": "code",
   "execution_count": 3,
   "metadata": {},
   "outputs": [
    {
     "name": "stdout",
     "output_type": "stream",
     "text": [
      "400 V:    1.57 +/-  0.11 mV\n",
      "450 V:    3.90 +/-  0.22 mV\n",
      "500 V:    9.16 +/-  0.64 mV\n",
      "550 V:   19.70 +/-  1.10 mV\n",
      "600 V:   40.10 +/-  1.90 mV\n",
      "650 V:   77.30 +/-  5.90 mV\n",
      "700 V:  143.50 +/- 11.50 mV\n",
      "750 V:  252.25 +/- 15.25 mV\n",
      "800 V:  422.00 +/- 27.00 mV\n",
      "850 V:  688.00 +/- 42.00 mV\n",
      "900 V: 1082.50 +/- 72.50 mV\n",
      "950 V: 1605.00 +/- 85.00 mV\n"
     ]
    }
   ],
   "source": [
    "# Create new arrays, according to the calculations above\n",
    "\n",
    "peak_heights_mid = (peak_heights_hi+peak_heights_low)/2\n",
    "peak_heights_delta = (peak_heights_hi-peak_heights_low)/2\n",
    "\n",
    "# Use the following to print out.  Note the use of the \"zip()\" function\n",
    "for V, peak, delta_peak in zip(HV_data, peak_heights_mid, peak_heights_delta):\n",
    "    print('{:.0f} V: {:7.2f} +/- {:5.2f} mV'.format(V,peak,delta_peak))"
   ]
  },
  {
   "cell_type": "markdown",
   "metadata": {},
   "source": [
    "### Step 2. Plot the peak heights versus HV values\n",
    "\n",
    "Use the `plt.errorbar()` plotting form to allow error bars to be plotted along with the points.  The error bars should be proportional to the \"uncertainty\" array values.  (Search for `pyplot.errorbar()` to see how to use this form.)\n",
    "\n",
    "Plot with both linear and double-logarithmic axes to see how the data become \"linearized.\"  (Hint: `plt.yscale('log')`)"
   ]
  },
  {
   "cell_type": "code",
   "execution_count": 4,
   "metadata": {
    "scrolled": false
   },
   "outputs": [
    {
     "data": {
      "image/png": "[encoded data removed]",
      "text/plain": [
       "<Figure size 864x648 with 1 Axes>"
      ]
     },
     "metadata": {
      "needs_background": "light"
     },
     "output_type": "display_data"
    }
   ],
   "source": [
    "plt.figure(figsize=(12,9))\n",
    "plt.xlim(350,1000)\n",
    "plt.grid(True)\n",
    "plt.xlabel('High voltage bias on base (V)')\n",
    "plt.ylabel('Peak height (mV)')\n",
    "plt.title('PMT response under different bias with fixed light-pulse input')\n",
    "plt.yscale('log')\n",
    "plt.xscale('log')\n",
    "plt.errorbar(HV_data,peak_heights_mid,yerr=2*peak_heights_delta,fmt='ro');"
   ]
  },
  {
   "cell_type": "markdown",
   "metadata": {},
   "source": [
    "### Step 3. Fit the log of the data sets to a line, and find the slope\n",
    "\n",
    "**SOMETHING NEW:** The **lmfit** package is a useful add-on to the SciPy fitting functions.  This package simplifies fitting data to a variety of standard functions.  See the [Lmfit Documentation](https://lmfit.github.io/lmfit-py/index.html) for a full discussion.  The package is quite powerful, but for basic fitting with common functions, it is very easy to use.  "
   ]
  },
  {
   "cell_type": "markdown",
   "metadata": {},
   "source": [
    "#### Example: Fitting a line\n",
    "\n",
    "The example below shows how to use the package to fit data to a line, obtain the fit parameters along with uncertainties, and then plot the data and fit. Execute the cell and study how it works.\n",
    "(Note: the data come from a calibration problem in physics 331)\n"
   ]
  },
  {
   "cell_type": "code",
   "execution_count": 5,
   "metadata": {},
   "outputs": [
    {
     "name": "stdout",
     "output_type": "stream",
     "text": [
      "[[Model]]\n",
      "    Model(linear)\n",
      "[[Fit Statistics]]\n",
      "    # fitting method   = leastsq\n",
      "    # function evals   = 3\n",
      "    # data points      = 9\n",
      "    # variables        = 2\n",
      "    chi-square         = 0.18041902\n",
      "    reduced chi-square = 0.02577415\n",
      "    Akaike info crit   = -31.1872805\n",
      "    Bayesian info crit = -30.7928313\n",
      "[[Variables]]\n",
      "    slope:      15.4639413 +/- 0.01139807 (0.07%) (init = 15.46394)\n",
      "    intercept:  3.20598011 +/- 0.38164201 (11.90%) (init = 3.20598)\n",
      "[[Correlations]] (unreported correlations are < 0.100)\n",
      "    C(slope, intercept) = -0.990\n",
      "\n",
      "Slope =  15.463941344548298 +/- 0.01139806675222934\n"
     ]
    },
    {
     "data": {
      "image/png": "[encoded data removed]",
      "text/plain": [
       "<Figure size 432x432 with 2 Axes>"
      ]
     },
     "metadata": {
      "needs_background": "light"
     },
     "output_type": "display_data"
    }
   ],
   "source": [
    "# Calibration Data\n",
    "# First column is wavelength (nm), second is carriage poisition (cm)\n",
    "#\n",
    "Cal_data = np.array([\n",
    "    [643.85, 41.43],\n",
    "    [579.07, 37.24],\n",
    "    [576.96, 37.11],\n",
    "    [546.08, 35.10],\n",
    "    [508.58, 32.68],\n",
    "    [479.99, 30.83],\n",
    "    [467.81, 30.04],\n",
    "    [435.83, 27.96],\n",
    "    [404.66, 25.98]])\n",
    "\n",
    "# Array slicing separates x (position) and y (wavelength)\n",
    "# Goal of calibration is to be able to feed in a position and obtain a wavelength\n",
    "wavelength = Cal_data[:,0]\n",
    "position = Cal_data[:,1]\n",
    "\n",
    "# imports a linear fitting model from lmfit\n",
    "from lmfit.models import LinearModel\n",
    "\n",
    "# create an instance of the model\n",
    "line = LinearModel()\n",
    "\n",
    "# One must have a guess of the parameters. The guess() method works with most of the standard\n",
    "# lmfit models\n",
    "param_guess = line.guess(wavelength, x=position)\n",
    "\n",
    "# The line below executes the fitting process.  The results are returned to \"line_fit\"\n",
    "line_fit = line.fit(wavelength, param_guess, x=position)\n",
    "\n",
    "# This prints the results in an easy to read form\n",
    "print(line_fit.fit_report())\n",
    "\n",
    "# The parameters and uncertainties are accessible as follows, for example:\n",
    "print('\\nSlope = ',line_fit.params['slope'].value,'+/-',line_fit.params['slope'].stderr)\n",
    "\n",
    "#Then you can plot the results quickly just to see how it looks using the plot() method\n",
    "line_fit.plot();"
   ]
  },
  {
   "cell_type": "markdown",
   "metadata": {},
   "source": [
    "#### Adapt the above to your problem\n",
    "\n",
    "To adapt the linear model, you would need to transform the data with a `log()` function, run the fit, and then transform the fit back to plot against the original data.  Alternately, you could fit to the power law model, available in the lmfit package.  You decide.  Either way, determine the exponent $n$ in the PMT gain model\n",
    "$$ G = \\delta^n = (KV_d)^n $$"
   ]
  },
  {
   "cell_type": "code",
   "execution_count": 6,
   "metadata": {},
   "outputs": [
    {
     "name": "stdout",
     "output_type": "stream",
     "text": [
      "[[Model]]\n",
      "    Model(linear)\n",
      "[[Fit Statistics]]\n",
      "    # fitting method   = leastsq\n",
      "    # function evals   = 3\n",
      "    # data points      = 12\n",
      "    # variables        = 2\n",
      "    chi-square         = 0.00438980\n",
      "    reduced chi-square = 4.3898e-04\n",
      "    Akaike info crit   = -90.9605317\n",
      "    Bayesian info crit = -89.9907184\n",
      "[[Variables]]\n",
      "    slope:      8.08561658 +/- 0.02252828 (0.28%) (init = 8.085617)\n",
      "    intercept: -48.0199505 +/- 0.14610662 (0.30%) (init = -48.01995)\n",
      "[[Correlations]] (unreported correlations are < 0.100)\n",
      "    C(slope, intercept) = -0.999\n"
     ]
    }
   ],
   "source": [
    "# You can feed np.log(peak_heights_mid), and similar directly to the fitting functions.\n",
    "# There is no need to create a second set of arrays\n",
    "\n",
    "line = LinearModel()\n",
    "\n",
    "param_guess = line.guess(np.log(peak_heights_mid), x=np.log(HV_data))\n",
    "linefit = line.fit(np.log(peak_heights_mid), param_guess, x=np.log(HV_data))\n",
    "\n",
    "print(linefit.fit_report())"
   ]
  },
  {
   "cell_type": "markdown",
   "metadata": {},
   "source": [
    "#### Calculate a fit line\n",
    "Make a fitline in the original data space by taking antilogs (np.exp()) of the line fit values.  You need to supply voltages to calculate the fitted values"
   ]
  },
  {
   "cell_type": "code",
   "execution_count": 7,
   "metadata": {},
   "outputs": [],
   "source": [
    "# Make an array of arbitrary values between 350 an 1000 volts\n",
    "V_values = np.arange(350,1000,20)\n",
    "\n",
    "#Then use the model to evaluate the fit values from these\n",
    "fitline = np.exp(linefit.eval(linefit.params,x=np.log(V_values)))"
   ]
  },
  {
   "cell_type": "markdown",
   "metadata": {},
   "source": [
    "Redo the plot above in Step 2, including the fitline."
   ]
  },
  {
   "cell_type": "code",
   "execution_count": 8,
   "metadata": {},
   "outputs": [
    {
     "data": {
      "image/png": "[encoded data removed]",
      "text/plain": [
       "<Figure size 864x648 with 1 Axes>"
      ]
     },
     "metadata": {
      "needs_background": "light"
     },
     "output_type": "display_data"
    }
   ],
   "source": [
    "# Add the line to the previous plot\n",
    "plt.figure(figsize=(12,9))\n",
    "plt.xlim(350,1000)\n",
    "plt.grid(True)\n",
    "plt.xlabel('High voltage bias on base (V)')\n",
    "plt.ylabel('Peak height (mV)')\n",
    "plt.title('PMT response under different bias with fixed light-pulse input')\n",
    "plt.yscale('log')\n",
    "plt.xscale('log')\n",
    "plt.errorbar(HV_data,peak_heights_mid,yerr=2*peak_heights_delta,fmt='ro')\n",
    "plt.plot(V_values,fitline,'b-', label=\"Fit\");"
   ]
  },
  {
   "cell_type": "markdown",
   "metadata": {},
   "source": [
    "### Don't forget to obtain $n$\n",
    "\n",
    "After calculating, look up the specifications for the 9266KB tube (see the Data Sheets and Equipment Information link on the canvas page).  Compare your result to what you expect in your group document."
   ]
  },
  {
   "cell_type": "code",
   "execution_count": 9,
   "metadata": {},
   "outputs": [
    {
     "name": "stdout",
     "output_type": "stream",
     "text": [
      "Exponent in PMT gain equation, n = 8.086±0.023\n"
     ]
    }
   ],
   "source": [
    "# I use the uncertainties function to print the uncertainty in n\n",
    "\n",
    "n = unc.ufloat(linefit.params['slope'].value,linefit.params['slope'].stderr)\n",
    "print('Exponent in PMT gain equation, n = {:.2uP}'.format(n))"
   ]
  },
  {
   "cell_type": "markdown",
   "metadata": {},
   "source": [
    "## Calculate the compton edges for the $\\gamma$ sources\n",
    "\n",
    "Write a Python function to calculate the \"Compton edges\" for the main $\\gamma$ emissions of the Cs-137, Na-22, and Co-60 isotopes.  You will find a formula in Leo, Section 2.7.2, and in the lecture notes on Energy Measurements.\n",
    "\n",
    "Use the scipy.constants library to obtain the necessary physical constants in your function.  Energy should be expressed as MeV\n",
    "\n",
    "Then apply your formula, and create a table showing each isotope, the photopeak energy, and the Compton edge."
   ]
  },
  {
   "cell_type": "markdown",
   "metadata": {},
   "source": [
    "#### Enter the data for the gamma energies\n",
    "Create some data structure to hold the known energies of the gamma ray sources.  A Python \"dictionary\" is a good option, but a simple array or list will work, if you keep track of which energy belongs to which nuclide."
   ]
  },
  {
   "cell_type": "code",
   "execution_count": 10,
   "metadata": {},
   "outputs": [],
   "source": [
    "# Data from table of radioactive sources by Browne\n",
    "# Energies in MeV\n",
    "\n",
    "# I use a dictionary with an list object as the \"value\".\n",
    "sources = {'Cs-137':[0.662],'Co-60':[1.173, 1.333],'Na-22':[0.511, 1.275]}"
   ]
  },
  {
   "cell_type": "markdown",
   "metadata": {},
   "source": [
    "#### Write your function\n",
    "\n",
    "Write a function to return the Compton edge energy for a given gamma-emission energy (in MeV). "
   ]
  },
  {
   "cell_type": "code",
   "execution_count": 11,
   "metadata": {},
   "outputs": [],
   "source": [
    "def compton_edge(E = 0.511):\n",
    "    ''' Formula for Compton edge from Leo section 2.7.2'''\n",
    "    mc2 = const.value(u'electron mass energy equivalent in MeV')\n",
    "    gamma = E/mc2\n",
    "    return E*(2*gamma)/(1.0+2*gamma)"
   ]
  },
  {
   "cell_type": "markdown",
   "metadata": {},
   "source": [
    "#### Print a table\n",
    "\n",
    "Print out a table listing the source, the gamma-emission energy, and the Compton edge energy for all values."
   ]
  },
  {
   "cell_type": "code",
   "execution_count": 12,
   "metadata": {},
   "outputs": [
    {
     "name": "stdout",
     "output_type": "stream",
     "text": [
      "Isotope | Emission (MeV) | Compton edge (MeV)\n",
      "---------------------------------------------\n",
      "Cs-137  |  0.662         |  0.478\n",
      "Co-60   |  1.173         |  0.963\n",
      "Co-60   |  1.333         |  1.119\n",
      "Na-22   |  0.511         |  0.341\n",
      "Na-22   |  1.275         |  1.062\n"
     ]
    }
   ],
   "source": [
    "print('Isotope | Emission (MeV) | Compton edge (MeV)')\n",
    "print('---------------------------------------------')\n",
    "for source,energies in sources.items():\n",
    "    for energy in energies:\n",
    "        print('{:7s} | {:6.3f}         | {:6.3f}'.format(source,energy,compton_edge(energy)))"
   ]
  },
  {
   "cell_type": "markdown",
   "metadata": {},
   "source": [
    "## Create a calibration curve from the measurements\n",
    "\n",
    "From your group's fits to the main photopeaks in the pulse height spectra of the four sources, create three arrays:\n",
    "* `peaks`: the peak locations in channel number\n",
    "* `delta-peaks`: the full-width at half-maximum of the photopeaks, in channel number\n",
    "* `energies`: the known energies, in MeV of the photopeaks"
   ]
  },
  {
   "cell_type": "code",
   "execution_count": 13,
   "metadata": {},
   "outputs": [
    {
     "name": "stdout",
     "output_type": "stream",
     "text": [
      "[0.511   1.275   0.0322  0.662   1.173   1.333   0.03097 0.081   0.356  ]\n",
      "[367.08 891.17  22.03 470.02 819.72 927.85  20.99  60.56 256.83]\n",
      "[28.29 43.01  5.18 32.77 40.59 43.6   4.51  6.32 19.31]\n"
     ]
    }
   ],
   "source": [
    "# I decided to create \"dictionaries\" with the data for each source.\n",
    "# The first entry in each sub-array is the known energy in MeV, the second is the channel number\n",
    "# and the third is the FWHM in channels\n",
    "\n",
    "source_data = {'Na-22':[[0.511,367.08,28.29],[1.275,891.17,43.01]],\n",
    "              'Cs-137':[[0.0322,22.03,5.18],[0.662,470.02,32.77]],\n",
    "               'Co-60':[[1.173,819.72,40.59],[1.333,927.85,43.60]],\n",
    "              'Ba-133':[[0.03097,20.99,4.51],[0.081,60.56,6.32],[0.356,256.83,19.31]]}\n",
    "\n",
    "# Then the lines below extract the requested arrays.  You could just enter them directly by hand.\n",
    "\n",
    "peaks = np.zeros(0)\n",
    "energies = np.zeros(0)\n",
    "delta_peaks = np.zeros(0)\n",
    "\n",
    "for source,photopeaks in source_data.items():\n",
    "    for a_peak in photopeaks:\n",
    "        energies = np.append(energies,a_peak[0])\n",
    "        peaks = np.append(peaks,a_peak[1])\n",
    "        delta_peaks = np.append(delta_peaks,a_peak[2])        \n",
    "\n",
    "# Good idea to print them in case something didn't work.\n",
    "\n",
    "print(energies)\n",
    "print(peaks)\n",
    "print(delta_peaks)"
   ]
  },
  {
   "cell_type": "markdown",
   "metadata": {},
   "source": [
    "#### Make a sanity-check plot\n",
    "Execute the code below to see if you have a nice line.  If not? Fix the problem."
   ]
  },
  {
   "cell_type": "code",
   "execution_count": 14,
   "metadata": {
    "scrolled": false
   },
   "outputs": [
    {
     "data": {
      "image/png": "[encoded data removed]",
      "text/plain": [
       "<Figure size 720x576 with 1 Axes>"
      ]
     },
     "metadata": {
      "needs_background": "light"
     },
     "output_type": "display_data"
    }
   ],
   "source": [
    "# Execute this to run a sanity-check plot\n",
    "plt.figure(figsize=(10,8))\n",
    "plt.xlabel('MCA channel number')\n",
    "plt.ylabel('Gamma energy (MeV)')\n",
    "plt.title('Calibration data for NaI detection system')\n",
    "plt.errorbar(peaks,energies,xerr=delta_peaks/2,fmt='ro');"
   ]
  },
  {
   "cell_type": "markdown",
   "metadata": {},
   "source": [
    "### Fit the calibration data to a line\n",
    "\n",
    "Fit the calibration so that so that you obtain the coefficients necessary to convert a channel to an energy.\n",
    "\n",
    "Then create a calibration function from these coefficients.\n",
    "\n",
    "**Optional**: Use the uncertainties package to calculate the uncertainty in the energy from the uncertaities in the coefficients."
   ]
  },
  {
   "cell_type": "markdown",
   "metadata": {},
   "source": [
    "#### First make the fit\n",
    "You have done this above.  Do it again."
   ]
  },
  {
   "cell_type": "code",
   "execution_count": 15,
   "metadata": {},
   "outputs": [
    {
     "name": "stdout",
     "output_type": "stream",
     "text": [
      "[[Model]]\n",
      "    Model(linear)\n",
      "[[Fit Statistics]]\n",
      "    # fitting method   = leastsq\n",
      "    # function evals   = 4\n",
      "    # data points      = 9\n",
      "    # variables        = 2\n",
      "    chi-square         = 3.3530e-04\n",
      "    reduced chi-square = 4.7900e-05\n",
      "    Akaike info crit   = -87.7793088\n",
      "    Bayesian info crit = -87.3848597\n",
      "[[Variables]]\n",
      "    slope:      0.00143659 +/- 6.5454e-06 (0.46%) (init = 0.001436594)\n",
      "    intercept: -0.00632936 +/- 0.00362027 (57.20%) (init = -0.00632936)\n",
      "[[Correlations]] (unreported correlations are < 0.100)\n",
      "    C(slope, intercept) = -0.771\n"
     ]
    },
    {
     "data": {
      "image/png": "[encoded data removed]",
      "text/plain": [
       "<Figure size 432x432 with 2 Axes>"
      ]
     },
     "metadata": {
      "needs_background": "light"
     },
     "output_type": "display_data"
    }
   ],
   "source": [
    "# Only need to import once:\n",
    "# from lmfit.models import LinearModel\n",
    "\n",
    "line = LinearModel()\n",
    "\n",
    "param_guess = line.guess(energies, x=peaks)\n",
    "linefit = line.fit(energies, param_guess, x=peaks)\n",
    "\n",
    "print(linefit.fit_report())\n",
    "\n",
    "linefit.plot();"
   ]
  },
  {
   "cell_type": "markdown",
   "metadata": {},
   "source": [
    "#### Create and test your calibration function\n",
    "\n",
    "Write a function that takes channel number and produces an energy in MeV."
   ]
  },
  {
   "cell_type": "code",
   "execution_count": 16,
   "metadata": {},
   "outputs": [
    {
     "name": "stdout",
     "output_type": "stream",
     "text": [
      "Peak widths and uncertainties in MeV\n",
      "0.00648±0.00003\n",
      "0.00744±0.00003\n",
      "0.00908±0.00004\n",
      "0.0277±0.0001\n",
      "0.0406±0.0002\n",
      "0.0471±0.0002\n",
      "0.0583±0.0003\n",
      "0.0618±0.0003\n",
      "0.0626±0.0003\n"
     ]
    }
   ],
   "source": [
    "# From the form \"y = m*x + b\", I'll create coefficients m and b with uncertainties\n",
    "\n",
    "m = unc.ufloat(linefit.params['slope'].value,linefit.params['slope'].stderr)\n",
    "b = unc.ufloat(linefit.params['intercept'].value,linefit.params['intercept'].stderr)\n",
    "\n",
    "# and then write a calibration function:\n",
    "def gamma_cal(channel,width=False,uncertainty=True):\n",
    "    # uncertainty structure may not work for certain applications.\n",
    "    if uncertainty:\n",
    "        if width:\n",
    "        # setting width to True allows a simple scaling of channels to energy change\n",
    "            return m*channel\n",
    "        else:\n",
    "            return m*channel+b\n",
    "    else:\n",
    "        if width:\n",
    "            return m.nominal_value*channel\n",
    "        else:\n",
    "            return m.nominal_value*channel+b.nominal_value\n",
    "        \n",
    "# Test the function, with uncertainities\n",
    "\n",
    "delta_E = gamma_cal(np.sort(delta_peaks), width=True)\n",
    "\n",
    "print('Peak widths and uncertainties in MeV')\n",
    "for peak in delta_E:\n",
    "    print('{:.1uP}'.format(peak))"
   ]
  },
  {
   "cell_type": "markdown",
   "metadata": {},
   "source": [
    "## Study model of $\\Delta E$ vs $E$\n",
    "\n",
    "According to a simple model of detector resolution, the width of the photopeak should be proportional to the square root of the energy.  The simplest way to view this is to plot $(\\Delta E)^2$ versus $E$.  If the model holds the points should lie on a line.\n",
    "\n",
    "Try it out: make such a plot.\n",
    "\n",
    "Then fit the data to a line, and extract the slope.  From this, extract the energy factor $Fw$  (See the lecture notes and lab instructions for explanation.)"
   ]
  },
  {
   "cell_type": "markdown",
   "metadata": {},
   "source": [
    "#### Make the plot\n",
    "\n",
    "of $E$ vs $(\\Delta E)^2$.  Run the `peaks` and `delta_peaks` through your calibration function.\n",
    "\n",
    "Note: if your calibration function returns a `ufloat` uncertainty object, these cannot be passed directly to the `plt.plot()` function."
   ]
  },
  {
   "cell_type": "code",
   "execution_count": 17,
   "metadata": {
    "scrolled": false
   },
   "outputs": [
    {
     "data": {
      "image/png": "[encoded data removed]",
      "text/plain": [
       "<Figure size 720x576 with 1 Axes>"
      ]
     },
     "metadata": {
      "needs_background": "light"
     },
     "output_type": "display_data"
    }
   ],
   "source": [
    "# Plotting will not work with uncertainty objects, so turn this off in the calibration function.\n",
    "\n",
    "E = gamma_cal(peaks,uncertainty=False)\n",
    "delta_E = gamma_cal(delta_peaks,width=True,uncertainty=False)\n",
    "\n",
    "# Sanity plot.  Looks sort of linear.\n",
    "plt.figure(figsize=(10,8))\n",
    "plt.grid(True)\n",
    "plt.xlabel('Gamma energy (MeV)')\n",
    "plt.ylabel(r'Square of the Gamma peak width (MeV$^2$)')\n",
    "plt.title('Test of energy resolution model')\n",
    "plt.plot(E,delta_E**2,'ro');"
   ]
  },
  {
   "cell_type": "markdown",
   "metadata": {},
   "source": [
    "#### Fit the data\n",
    "\n",
    "One more time with a linear fit."
   ]
  },
  {
   "cell_type": "code",
   "execution_count": 18,
   "metadata": {},
   "outputs": [
    {
     "name": "stdout",
     "output_type": "stream",
     "text": [
      "[[Model]]\n",
      "    Model(linear)\n",
      "[[Fit Statistics]]\n",
      "    # fitting method   = leastsq\n",
      "    # function evals   = 3\n",
      "    # data points      = 9\n",
      "    # variables        = 2\n",
      "    chi-square         = 1.7449e-07\n",
      "    reduced chi-square = 2.4928e-08\n",
      "    Akaike info crit   = -155.827388\n",
      "    Bayesian info crit = -155.432939\n",
      "[[Variables]]\n",
      "    slope:      0.00303830 +/- 1.0394e-04 (3.42%) (init = 0.003038297)\n",
      "    intercept: -6.8102e-05 +/- 8.2081e-05 (120.53%) (init = -6.810181e-05)\n",
      "[[Correlations]] (unreported correlations are < 0.100)\n",
      "    C(slope, intercept) = -0.767\n"
     ]
    },
    {
     "data": {
      "image/png": "[encoded data removed]",
      "text/plain": [
       "<Figure size 432x432 with 2 Axes>"
      ]
     },
     "metadata": {
      "needs_background": "light"
     },
     "output_type": "display_data"
    }
   ],
   "source": [
    "line2 = LinearModel()\n",
    "\n",
    "param_guess2 = line2.guess(delta_E**2, x=E)\n",
    "linefit2 = line2.fit(delta_E**2, param_guess2, x=E)\n",
    "\n",
    "print(linefit2.fit_report())\n",
    "\n",
    "linefit2.plot();"
   ]
  },
  {
   "cell_type": "markdown",
   "metadata": {},
   "source": [
    "#### Calculate $Fw$\n",
    "\n",
    "Obtain the slope and uncertainty.  Use these to calculate the quantity $Fw$, with uncertainty, in electron volts (eV)."
   ]
  },
  {
   "cell_type": "code",
   "execution_count": 19,
   "metadata": {},
   "outputs": [
    {
     "name": "stdout",
     "output_type": "stream",
     "text": [
      "The estimated \"Fano factor times energy per photoelectron\" Fw = 550±19 eV\n"
     ]
    }
   ],
   "source": [
    "this_slope = unc.ufloat(linefit2.params['slope'].value,linefit2.params['slope'].stderr)\n",
    "Fw = this_slope/(2.35**2)\n",
    "print('The estimated \"Fano factor times energy per photoelectron\" Fw = {:.2uP} eV'.format(Fw*1e6))"
   ]
  }
 ],
 "metadata": {
  "kernelspec": {
   "display_name": "Python 3",
   "language": "python",
   "name": "python3"
  },
  "language_info": {
   "codemirror_mode": {
    "name": "ipython",
    "version": 3
   },
   "file_extension": ".py",
   "mimetype": "text/x-python",
   "name": "python",
   "nbconvert_exporter": "python",
   "pygments_lexer": "ipython3",
   "version": "3.7.3"
  }
 },
 "nbformat": 4,
 "nbformat_minor": 2
}
