{
 "cells": [
  {
   "cell_type": "markdown",
   "metadata": {},
   "source": [
    "# Lab 3 Individual Analysis - Energy Measurements\n",
    "\n",
    "This exercise will introduce (and beat to death) fitting a line to data.  You should also learn the utility of transforming data sets so that they display as a line, the most easily recognizable function."
   ]
  },
  {
   "cell_type": "code",
   "execution_count": null,
   "metadata": {},
   "outputs": [],
   "source": [
    "import numpy as np  # import the numpy library functions.\n",
    "import scipy.constants as const # import physical constants\n",
    "import matplotlib.pyplot as plt # plotting functions\n",
    "import uncertainties as unc # Uncertainties package.  Good for simple error propagation\n",
    "# directive below puts the plots in the notebook\n",
    "%matplotlib inline"
   ]
  },
  {
   "cell_type": "markdown",
   "metadata": {},
   "source": [
    "## PMT Gain Analysis\n",
    "\n",
    "From the collected data of peak height vs. high-voltage bias, carry out the following analysis:\n",
    "\n",
    "1. Convert each peak voltage range to a median and uncertainty.  For example if the listed voltage is \"12.3 - 14.5 mV\" convert it to (12.3+14.5)/2 plus or minus (14.5-12.3)/2, i.e., 13.4 +/- 1.1.  Accomplish this by putting the numbers into NumPy arrays which are then used to create new arrays.\n",
    "\n",
    "2. Plot the median voltage vs HV bias on a double-log scale.  If the model for PMT gain is mostly correct, the result should be points lying along a line.\n",
    "\n",
    "3. Fit the data to obtain the slope of the line on the double-log plot.  The slope should be a number close to the number of dynode stages."
   ]
  },
  {
   "cell_type": "markdown",
   "metadata": {},
   "source": [
    "### Step 1. Enter and reduce the data set"
   ]
  },
  {
   "cell_type": "markdown",
   "metadata": {},
   "source": [
    "Create the dat set arrays:"
   ]
  },
  {
   "cell_type": "code",
   "execution_count": null,
   "metadata": {},
   "outputs": [],
   "source": [
    "# From the data set, create arrays to manipulate.  \n",
    "# One suggested way is below, where the \"low\" and \"hi\" are the low and high values for\n",
    "# each peak.\n",
    "\n",
    "# You are welcome to use other ways to create the data sets\n",
    "\n",
    "HV_data = np.arange(400.,1000.,50.)\n",
    "peak_heights_low = np.array([])\n",
    "peak_heights_hi  = np.array([])"
   ]
  },
  {
   "cell_type": "markdown",
   "metadata": {},
   "source": [
    "Manipulate them to obtain midpoints and uncertainty.  Then print out using the code at the bottom (or your version of it)."
   ]
  },
  {
   "cell_type": "code",
   "execution_count": null,
   "metadata": {},
   "outputs": [],
   "source": [
    "# Create new arrays, according to the calculations above\n",
    "\n",
    "peak_heights_mid = \n",
    "peak_heights_delta = \n",
    "\n",
    "# Use the following to print out.  Note the use of the \"zip()\" function\n",
    "for V, peak, delta_peak in zip(HV_data, peak_heights_mid, peak_heights_delta):\n",
    "    print('{:.0f} V: {:7.2f} +/- {:5.2f} mV'.format(V,peak,delta_peak))"
   ]
  },
  {
   "cell_type": "markdown",
   "metadata": {},
   "source": [
    "### Step 2. Plot the peak heights versus HV values\n",
    "\n",
    "Use the `plt.errorbar()` plotting form to allow error bars to be plotted along with the points.  The error bars should be proportional to the \"uncertainty\" array values.  (Search for `pyplot.errorbar()` to see how to use this form.)\n",
    "\n",
    "Plot with both linear and double-logarithmic axes to see how the data become \"linearized.\"  (Hint: `plt.yscale('log')`)"
   ]
  },
  {
   "cell_type": "code",
   "execution_count": null,
   "metadata": {
    "scrolled": false
   },
   "outputs": [],
   "source": []
  },
  {
   "cell_type": "markdown",
   "metadata": {},
   "source": [
    "### Step 3. Fit the log of the data sets to a line, and find the slope\n",
    "\n",
    "**SOMETHING NEW:** The **lmfit** package is a useful add-on to the SciPy fitting functions.  This package simplifies fitting data to a variety of standard functions.  See the [Lmfit Documentation](https://lmfit.github.io/lmfit-py/index.html) for a full discussion.  The package is quite powerful, but for basic fitting with common functions, it is very easy to use.  "
   ]
  },
  {
   "cell_type": "markdown",
   "metadata": {},
   "source": [
    "#### Example: Fitting a line\n",
    "\n",
    "The example below shows how to use the package to fit data to a line, obtain the fit parameters along with uncertainties, and then plot the data and fit. Execute the cell and study how it works.\n",
    "(Note: the data come from a calibration problem in physics 331)\n"
   ]
  },
  {
   "cell_type": "code",
   "execution_count": null,
   "metadata": {},
   "outputs": [],
   "source": [
    "# Calibration Data\n",
    "# First column is wavelength (nm), second is carriage poisition (cm)\n",
    "#\n",
    "Cal_data = np.array([\n",
    "    [643.85, 41.43],\n",
    "    [579.07, 37.24],\n",
    "    [576.96, 37.11],\n",
    "    [546.08, 35.10],\n",
    "    [508.58, 32.68],\n",
    "    [479.99, 30.83],\n",
    "    [467.81, 30.04],\n",
    "    [435.83, 27.96],\n",
    "    [404.66, 25.98]])\n",
    "\n",
    "# Array slicing separates x (position) and y (wavelength)\n",
    "# Goal of calibration is to be able to feed in a position and obtain a wavelength\n",
    "wavelength = Cal_data[:,0]\n",
    "position = Cal_data[:,1]\n",
    "\n",
    "# imports a linear fitting model from lmfit\n",
    "from lmfit.models import LinearModel\n",
    "\n",
    "# create an instance of the model\n",
    "line = LinearModel()\n",
    "\n",
    "# One must have a guess of the parameters. The guess() method works with most of the standard\n",
    "# lmfit models\n",
    "param_guess = line.guess(wavelength, x=position)\n",
    "\n",
    "# The line below executes the fitting process.  The results are returned to \"line_fit\"\n",
    "line_fit = line.fit(wavelength, param_guess, x=position)\n",
    "\n",
    "# This prints the results in an easy to read form\n",
    "print(line_fit.fit_report())\n",
    "\n",
    "# The parameters and uncertainties are accessible as follows, for example:\n",
    "print('\\nSlope = ',line_fit.params['slope'].value,'+/-',line_fit.params['slope'].stderr)\n",
    "\n",
    "#Then you can plot the results quickly just to see how it looks using the plot() method\n",
    "line_fit.plot();"
   ]
  },
  {
   "cell_type": "markdown",
   "metadata": {},
   "source": [
    "#### Adapt the above to your problem\n",
    "\n",
    "To adapt the linear model, you would need to transform the data with a `log()` function, run the fit, and then transform the fit back to plot against the original data.  Alternately, you could fit to the power law model, available in the lmfit package.  You decide.  Either way, determine the exponent $n$ in the PMT gain model\n",
    "$$ G = \\delta^n = (KV_d)^n $$"
   ]
  },
  {
   "cell_type": "code",
   "execution_count": null,
   "metadata": {},
   "outputs": [],
   "source": [
    "# You can feed np.log(peak_heights_mid), and similar directly to the fitting functions.\n",
    "# There is no need to create a second set of arrays\n",
    "\n"
   ]
  },
  {
   "cell_type": "markdown",
   "metadata": {},
   "source": [
    "#### Calculate a fit line\n",
    "Make a fitline in the original data space by taking antilogs (np.exp()) of the line fit values.  You need to supply voltages to calculate the fitted values"
   ]
  },
  {
   "cell_type": "code",
   "execution_count": null,
   "metadata": {},
   "outputs": [],
   "source": [
    "# Make an array of arbitrary values between 350 an 1000 volts\n",
    "V_values = np.arange(350,1000,20)\n",
    "\n",
    "#Then use the model to evalueate the fit values from these.  Hint: use line_fit.eval() to generate y values\n",
    "fitline = "
   ]
  },
  {
   "cell_type": "markdown",
   "metadata": {},
   "source": [
    "Redo the plot above in Step 2, including the fitline."
   ]
  },
  {
   "cell_type": "code",
   "execution_count": null,
   "metadata": {},
   "outputs": [],
   "source": [
    "# Add the line to the previous plot\n"
   ]
  },
  {
   "cell_type": "markdown",
   "metadata": {},
   "source": [
    "### Don't forget to obtain $n$\n",
    "\n",
    "After calculating, look up the specifications for the 9266KB tube (see the Data Sheets and Equipment Information link on the canvas page).  Compare your result to what you expect in your group document."
   ]
  },
  {
   "cell_type": "code",
   "execution_count": null,
   "metadata": {},
   "outputs": [],
   "source": []
  },
  {
   "cell_type": "markdown",
   "metadata": {},
   "source": [
    "## Calculate the compton edges for the $\\gamma$ sources\n",
    "\n",
    "Write a Python function to calculate the \"Compton edges\" for the main $\\gamma$ emissions of the Cs-137, Na-22, and Co-60 isotopes.  You will find a formula in Leo, Section 2.7.2, and in the lecture notes on Energy Measurements.\n",
    "\n",
    "Use the scipy.constants library to obtain the necessary physical constants in your function.  Energy should be expressed as MeV\n",
    "\n",
    "Then apply your formula, and create a table showing each isotope, the photopeak energy, and the Compton edge."
   ]
  },
  {
   "cell_type": "markdown",
   "metadata": {},
   "source": [
    "#### Enter the data for the gamma energies\n",
    "Create some data structure to hold the known energies of the gamma ray sources.  A Python \"dictionary\" is a good option, but a simple array or list will work, if you keep track of which energy belongs to which nuclide."
   ]
  },
  {
   "cell_type": "code",
   "execution_count": null,
   "metadata": {},
   "outputs": [],
   "source": [
    "# Data from table of radioactive sources by Browne\n",
    "# Energies in MeV\n"
   ]
  },
  {
   "cell_type": "markdown",
   "metadata": {},
   "source": [
    "#### Write your function\n",
    "\n",
    "Write a function to return the Compton edge energy for a given gamma-emission energy (in MeV). "
   ]
  },
  {
   "cell_type": "code",
   "execution_count": null,
   "metadata": {},
   "outputs": [],
   "source": [
    "    "
   ]
  },
  {
   "cell_type": "markdown",
   "metadata": {},
   "source": [
    "#### Print a table\n",
    "\n",
    "Print out a table listing the source, the gamma-emission energy, and the Compton edge energy for all values."
   ]
  },
  {
   "cell_type": "code",
   "execution_count": null,
   "metadata": {},
   "outputs": [],
   "source": []
  },
  {
   "cell_type": "markdown",
   "metadata": {},
   "source": [
    "## Create a calibration curve from the measurements\n",
    "\n",
    "From your group's fits to the main photopeaks in the pulse height spectra of the four sources, create three arrays:\n",
    "* `peaks`: the peak locations in channel number\n",
    "* `delta-peaks`: the full-width at half-maximum of the photopeaks, in channel number\n",
    "* `energies`: the known energies, in MeV of the photopeaks"
   ]
  },
  {
   "cell_type": "code",
   "execution_count": null,
   "metadata": {},
   "outputs": [],
   "source": []
  },
  {
   "cell_type": "markdown",
   "metadata": {},
   "source": [
    "#### Make a sanity-check plot\n",
    "Execute the code below to see if you have a nice line.  If not? Fix the problem."
   ]
  },
  {
   "cell_type": "code",
   "execution_count": null,
   "metadata": {
    "scrolled": false
   },
   "outputs": [],
   "source": [
    "# Execute this to run a sanity-check plot\n",
    "plt.figure(figsize=(10,8))\n",
    "plt.xlabel('MCA channel number')\n",
    "plt.ylabel('Gamma energy (MeV)')\n",
    "plt.title('Calibration data for NaI detection system')\n",
    "plt.errorbar(peaks,energies,xerr=delta_peaks/2,fmt='ro');"
   ]
  },
  {
   "cell_type": "markdown",
   "metadata": {},
   "source": [
    "### Fit the calibration data to a line\n",
    "\n",
    "Fit the calibration so that so that you obtain the coefficients necessary to convert a channel to an energy.\n",
    "\n",
    "Then create a calibration function from these coefficients.\n",
    "\n",
    "**Optional**: Use the uncertainties package to calculate the uncertainty in the energy from the uncertaities in the coefficients."
   ]
  },
  {
   "cell_type": "markdown",
   "metadata": {},
   "source": [
    "#### First make the fit\n",
    "You have done this above.  Do it again."
   ]
  },
  {
   "cell_type": "code",
   "execution_count": null,
   "metadata": {},
   "outputs": [],
   "source": []
  },
  {
   "cell_type": "markdown",
   "metadata": {},
   "source": [
    "#### Create and test your calibration function\n",
    "\n",
    "Write a function that takes channel number and produces an energy in MeV."
   ]
  },
  {
   "cell_type": "code",
   "execution_count": null,
   "metadata": {},
   "outputs": [],
   "source": []
  },
  {
   "cell_type": "markdown",
   "metadata": {},
   "source": [
    "## Study model of $\\Delta E$ vs $E$\n",
    "\n",
    "According to a simple model of detector resolution, the width of the photopeak should be proportional to the square root of the energy.  The simplest way to view this is to plot $(\\Delta E)^2$ versus $E$.  If the model holds the points should lie on a line.\n",
    "\n",
    "Try it out: make such a plot.\n",
    "\n",
    "Then fit the data to a line, and extract the slope.  From this, extract the energy factor $Fw$  (See the lecture notes and lab instructions for explanation.)"
   ]
  },
  {
   "cell_type": "markdown",
   "metadata": {},
   "source": [
    "#### Make the plot\n",
    "\n",
    "of $E$ vs $(\\Delta E)^2$.  Run the `peaks` and `delta_peaks` through your calibration function.\n",
    "\n",
    "Note: if your calibration function returns a `ufloat` uncertainty object, these cannot be passed directly to the `plt.plot()` function."
   ]
  },
  {
   "cell_type": "code",
   "execution_count": null,
   "metadata": {
    "scrolled": false
   },
   "outputs": [],
   "source": []
  },
  {
   "cell_type": "markdown",
   "metadata": {},
   "source": [
    "#### Fit the data\n",
    "\n",
    "One more time with a linear fit."
   ]
  },
  {
   "cell_type": "code",
   "execution_count": null,
   "metadata": {},
   "outputs": [],
   "source": []
  },
  {
   "cell_type": "markdown",
   "metadata": {},
   "source": [
    "#### Calculate $Fw$\n",
    "\n",
    "Obtain the slope and uncertainty.  Use these to calculate the quantity $Fw$, with uncertainty, in electron volts (eV)."
   ]
  },
  {
   "cell_type": "code",
   "execution_count": null,
   "metadata": {},
   "outputs": [],
   "source": [
    "# After calculation, use the command below to print it out.\n",
    "\n",
    "print('The estimated \"Fano factor X energy per photoelectron\" Fw = {:.2uP} eV'.format(Fw*1e6))"
   ]
  }
 ],
 "metadata": {
  "kernelspec": {
   "display_name": "Python 3",
   "language": "python",
   "name": "python3"
  },
  "language_info": {
   "codemirror_mode": {
    "name": "ipython",
    "version": 3
   },
   "file_extension": ".py",
   "mimetype": "text/x-python",
   "name": "python",
   "nbconvert_exporter": "python",
   "pygments_lexer": "ipython3",
   "version": "3.7.3"
  }
 },
 "nbformat": 4,
 "nbformat_minor": 2
}
